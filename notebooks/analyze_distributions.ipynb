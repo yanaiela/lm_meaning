{
 "cells": [
  {
   "cell_type": "code",
   "execution_count": 1,
   "metadata": {},
   "outputs": [],
   "source": [
    "import json\n",
    "\n"
   ]
  },
  {
   "cell_type": "code",
   "execution_count": 12,
   "metadata": {},
   "outputs": [],
   "source": [
    "input_file = '../data/output/unpatterns/P19_bert-large-cased-Trex_sm.json'"
   ]
  },
  {
   "cell_type": "code",
   "execution_count": 13,
   "metadata": {},
   "outputs": [],
   "source": [
    "with open(input_file, 'r') as f:\n",
    "    data = json.load(f)"
   ]
  },
  {
   "cell_type": "code",
   "execution_count": 14,
   "metadata": {},
   "outputs": [
    {
     "data": {
      "text/plain": [
       "dict_keys(['[X] was born in [Y].', '[X] was married in [Y].'])"
      ]
     },
     "execution_count": 14,
     "metadata": {},
     "output_type": "execute_result"
    }
   ],
   "source": [
    "data.keys()"
   ]
  },
  {
   "cell_type": "code",
   "execution_count": 17,
   "metadata": {},
   "outputs": [
    {
     "data": {
      "text/plain": [
       "dict_keys(['data', 'predictions'])"
      ]
     },
     "execution_count": 17,
     "metadata": {},
     "output_type": "execute_result"
    }
   ],
   "source": [
    "data['[X] was born in [Y].'].keys()"
   ]
  },
  {
   "cell_type": "code",
   "execution_count": 21,
   "metadata": {},
   "outputs": [
    {
     "data": {
      "text/plain": [
       "[{'sequence': '[CLS] Allan Peiper was born in Vienna. [SEP]',\n",
       "  'score': 0.1382654905319214,\n",
       "  'token': 5337,\n",
       "  'token_str': 'Vienna'},\n",
       " {'sequence': '[CLS] Allan Peiper was born in Berlin. [SEP]',\n",
       "  'score': 0.08819528669118881,\n",
       "  'token': 3206,\n",
       "  'token_str': 'Berlin'},\n",
       " {'sequence': '[CLS] Allan Peiper was born in Munich. [SEP]',\n",
       "  'score': 0.047068849205970764,\n",
       "  'token': 6947,\n",
       "  'token_str': 'Munich'},\n",
       " {'sequence': '[CLS] Allan Peiper was born in Germany. [SEP]',\n",
       "  'score': 0.04091975837945938,\n",
       "  'token': 1860,\n",
       "  'token_str': 'Germany'},\n",
       " {'sequence': '[CLS] Allan Peiper was born in London. [SEP]',\n",
       "  'score': 0.03444024920463562,\n",
       "  'token': 1498,\n",
       "  'token_str': 'London'}]"
      ]
     },
     "execution_count": 21,
     "metadata": {},
     "output_type": "execute_result"
    }
   ],
   "source": [
    "data['[X] was born in [Y].']['predictions'][0]"
   ]
  },
  {
   "cell_type": "code",
   "execution_count": 19,
   "metadata": {},
   "outputs": [],
   "source": [
    "base_pattern = '[X] was born in [Y].'\n",
    "other_pattern = '[X] was married in [Y].'"
   ]
  },
  {
   "cell_type": "code",
   "execution_count": 33,
   "metadata": {},
   "outputs": [],
   "source": [
    "base_probs = []\n",
    "other_probs = []\n",
    "\n",
    "for ind, data_row in enumerate(data[base_pattern]['data']):\n",
    "    obj = data_row['obj_label']\n",
    "    \n",
    "    if data[base_pattern]['predictions'][ind][0]['token_str'] == obj:\n",
    "        true_pattern_prob = data[base_pattern]['predictions'][ind][0]['score']\n",
    "        base_probs.append(true_pattern_prob)\n",
    "    \n",
    "    if data[other_pattern]['predictions'][ind][0]['token_str'] == obj:\n",
    "        other_pattern_prob = data[other_pattern]['predictions'][ind][0]['score']\n",
    "        other_probs.append(other_pattern_prob)"
   ]
  },
  {
   "cell_type": "code",
   "execution_count": 25,
   "metadata": {},
   "outputs": [],
   "source": [
    "import seaborn as sns\n",
    "import matplotlib.pyplot as plt\n",
    "import numpy as np"
   ]
  },
  {
   "cell_type": "code",
   "execution_count": 41,
   "metadata": {
    "scrolled": true
   },
   "outputs": [
    {
     "data": {
      "image/png": "[encoded data removed]",
      "text/plain": [
       "<Figure size 432x288 with 1 Axes>"
      ]
     },
     "metadata": {
      "needs_background": "light"
     },
     "output_type": "display_data"
    }
   ],
   "source": [
    "sns.distplot(np.array(base_probs), label='true relation')\n",
    "sns.distplot(np.array(other_probs), label='fake relation')\n",
    "\n",
    "plt.legend();\n"
   ]
  },
  {
   "cell_type": "code",
   "execution_count": 38,
   "metadata": {},
   "outputs": [
    {
     "data": {
      "text/plain": [
       "210"
      ]
     },
     "execution_count": 38,
     "metadata": {},
     "output_type": "execute_result"
    }
   ],
   "source": [
    "len(base_probs)"
   ]
  },
  {
   "cell_type": "code",
   "execution_count": 39,
   "metadata": {},
   "outputs": [
    {
     "data": {
      "text/plain": [
       "147"
      ]
     },
     "execution_count": 39,
     "metadata": {},
     "output_type": "execute_result"
    }
   ],
   "source": [
    "len(other_probs)"
   ]
  }
 ],
 "metadata": {
  "kernelspec": {
   "display_name": "memorization",
   "language": "python",
   "name": "memorization"
  },
  "language_info": {
   "codemirror_mode": {
    "name": "ipython",
    "version": 3
   },
   "file_extension": ".py",
   "mimetype": "text/x-python",
   "name": "python",
   "nbconvert_exporter": "python",
   "pygments_lexer": "ipython3",
   "version": "3.7.8"
  }
 },
 "nbformat": 4,
 "nbformat_minor": 4
}
